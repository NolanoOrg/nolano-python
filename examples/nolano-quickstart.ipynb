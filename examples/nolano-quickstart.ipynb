{
  "cells": [
    {
      "cell_type": "raw",
      "metadata": {
        "vscode": {
          "languageId": "raw"
        }
      },
      "source": [
        "# Nolano Python SDK - Quick Start Guide\n",
        "\n",
        "This notebook provides a quick introduction to using the Nolano Python SDK for time series forecasting.\n",
        "\n",
        "## Overview\n",
        "\n",
        "The Nolano SDK gives you access to 4 specialized forecasting models through a simple Python interface. Whether you're forecasting sales, demand, or any other time series, Nolano provides accurate predictions with confidence intervals.\n",
        "\n",
        "## Prerequisites\n",
        "\n",
        "1. Install the Nolano package: `pip install nolano`\n",
        "2. Get your API key from [https://app.nolano.ai](https://app.nolano.ai)\n",
        "3. Set your API key as an environment variable: `NOLANO_API_KEY=your_api_key_here`\n"
      ]
    }
  ],
  "metadata": {
    "language_info": {
      "name": "python"
    }
  },
  "nbformat": 4,
  "nbformat_minor": 2
}
